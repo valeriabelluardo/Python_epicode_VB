{
 "cells": [
  {
   "cell_type": "code",
   "execution_count": null,
   "id": "df54ca1a-14f7-4772-bd4c-10592928349e",
   "metadata": {},
   "outputs": [],
   "source": [
    "# Importo il datatset denominato owid-covid-data in csv e verifico le prime 10 righe del dataframe"
   ]
  },
  {
   "cell_type": "code",
   "execution_count": 91,
   "id": "ea4825fa-f94b-4db0-b2ad-adcbb0b5ec47",
   "metadata": {},
   "outputs": [],
   "source": [
    "import pandas as pd\n",
    "import numpy as np\n",
    "import matplotlib.pyplot as plt\n",
    "import seaborn as sns\n",
    "df=pd.read_csv(\"owid-covid-data.csv\")"
   ]
  },
  {
   "cell_type": "code",
   "execution_count": 93,
   "id": "0756410b-fbcf-4aed-b460-3cd577ee9463",
   "metadata": {},
   "outputs": [
    {
     "data": {
      "text/html": [
       "<div>\n",
       "<style scoped>\n",
       "    .dataframe tbody tr th:only-of-type {\n",
       "        vertical-align: middle;\n",
       "    }\n",
       "\n",
       "    .dataframe tbody tr th {\n",
       "        vertical-align: top;\n",
       "    }\n",
       "\n",
       "    .dataframe thead th {\n",
       "        text-align: right;\n",
       "    }\n",
       "</style>\n",
       "<table border=\"1\" class=\"dataframe\">\n",
       "  <thead>\n",
       "    <tr style=\"text-align: right;\">\n",
       "      <th></th>\n",
       "      <th>iso_code</th>\n",
       "      <th>continent</th>\n",
       "      <th>location</th>\n",
       "      <th>date</th>\n",
       "      <th>total_cases</th>\n",
       "      <th>new_cases</th>\n",
       "      <th>new_cases_smoothed</th>\n",
       "      <th>total_deaths</th>\n",
       "      <th>new_deaths</th>\n",
       "      <th>new_deaths_smoothed</th>\n",
       "      <th>...</th>\n",
       "      <th>male_smokers</th>\n",
       "      <th>handwashing_facilities</th>\n",
       "      <th>hospital_beds_per_thousand</th>\n",
       "      <th>life_expectancy</th>\n",
       "      <th>human_development_index</th>\n",
       "      <th>population</th>\n",
       "      <th>excess_mortality_cumulative_absolute</th>\n",
       "      <th>excess_mortality_cumulative</th>\n",
       "      <th>excess_mortality</th>\n",
       "      <th>excess_mortality_cumulative_per_million</th>\n",
       "    </tr>\n",
       "  </thead>\n",
       "  <tbody>\n",
       "    <tr>\n",
       "      <th>0</th>\n",
       "      <td>AFG</td>\n",
       "      <td>Asia</td>\n",
       "      <td>Afghanistan</td>\n",
       "      <td>2020-01-05</td>\n",
       "      <td>NaN</td>\n",
       "      <td>0.0</td>\n",
       "      <td>NaN</td>\n",
       "      <td>NaN</td>\n",
       "      <td>0.0</td>\n",
       "      <td>NaN</td>\n",
       "      <td>...</td>\n",
       "      <td>NaN</td>\n",
       "      <td>37.746</td>\n",
       "      <td>0.5</td>\n",
       "      <td>64.83</td>\n",
       "      <td>0.511</td>\n",
       "      <td>41128772.0</td>\n",
       "      <td>NaN</td>\n",
       "      <td>NaN</td>\n",
       "      <td>NaN</td>\n",
       "      <td>NaN</td>\n",
       "    </tr>\n",
       "    <tr>\n",
       "      <th>1</th>\n",
       "      <td>AFG</td>\n",
       "      <td>Asia</td>\n",
       "      <td>Afghanistan</td>\n",
       "      <td>2020-01-06</td>\n",
       "      <td>NaN</td>\n",
       "      <td>0.0</td>\n",
       "      <td>NaN</td>\n",
       "      <td>NaN</td>\n",
       "      <td>0.0</td>\n",
       "      <td>NaN</td>\n",
       "      <td>...</td>\n",
       "      <td>NaN</td>\n",
       "      <td>37.746</td>\n",
       "      <td>0.5</td>\n",
       "      <td>64.83</td>\n",
       "      <td>0.511</td>\n",
       "      <td>41128772.0</td>\n",
       "      <td>NaN</td>\n",
       "      <td>NaN</td>\n",
       "      <td>NaN</td>\n",
       "      <td>NaN</td>\n",
       "    </tr>\n",
       "    <tr>\n",
       "      <th>2</th>\n",
       "      <td>AFG</td>\n",
       "      <td>Asia</td>\n",
       "      <td>Afghanistan</td>\n",
       "      <td>2020-01-07</td>\n",
       "      <td>NaN</td>\n",
       "      <td>0.0</td>\n",
       "      <td>NaN</td>\n",
       "      <td>NaN</td>\n",
       "      <td>0.0</td>\n",
       "      <td>NaN</td>\n",
       "      <td>...</td>\n",
       "      <td>NaN</td>\n",
       "      <td>37.746</td>\n",
       "      <td>0.5</td>\n",
       "      <td>64.83</td>\n",
       "      <td>0.511</td>\n",
       "      <td>41128772.0</td>\n",
       "      <td>NaN</td>\n",
       "      <td>NaN</td>\n",
       "      <td>NaN</td>\n",
       "      <td>NaN</td>\n",
       "    </tr>\n",
       "    <tr>\n",
       "      <th>3</th>\n",
       "      <td>AFG</td>\n",
       "      <td>Asia</td>\n",
       "      <td>Afghanistan</td>\n",
       "      <td>2020-01-08</td>\n",
       "      <td>NaN</td>\n",
       "      <td>0.0</td>\n",
       "      <td>NaN</td>\n",
       "      <td>NaN</td>\n",
       "      <td>0.0</td>\n",
       "      <td>NaN</td>\n",
       "      <td>...</td>\n",
       "      <td>NaN</td>\n",
       "      <td>37.746</td>\n",
       "      <td>0.5</td>\n",
       "      <td>64.83</td>\n",
       "      <td>0.511</td>\n",
       "      <td>41128772.0</td>\n",
       "      <td>NaN</td>\n",
       "      <td>NaN</td>\n",
       "      <td>NaN</td>\n",
       "      <td>NaN</td>\n",
       "    </tr>\n",
       "    <tr>\n",
       "      <th>4</th>\n",
       "      <td>AFG</td>\n",
       "      <td>Asia</td>\n",
       "      <td>Afghanistan</td>\n",
       "      <td>2020-01-09</td>\n",
       "      <td>NaN</td>\n",
       "      <td>0.0</td>\n",
       "      <td>NaN</td>\n",
       "      <td>NaN</td>\n",
       "      <td>0.0</td>\n",
       "      <td>NaN</td>\n",
       "      <td>...</td>\n",
       "      <td>NaN</td>\n",
       "      <td>37.746</td>\n",
       "      <td>0.5</td>\n",
       "      <td>64.83</td>\n",
       "      <td>0.511</td>\n",
       "      <td>41128772.0</td>\n",
       "      <td>NaN</td>\n",
       "      <td>NaN</td>\n",
       "      <td>NaN</td>\n",
       "      <td>NaN</td>\n",
       "    </tr>\n",
       "  </tbody>\n",
       "</table>\n",
       "<p>5 rows × 67 columns</p>\n",
       "</div>"
      ],
      "text/plain": [
       "  iso_code continent     location        date  total_cases  new_cases  \\\n",
       "0      AFG      Asia  Afghanistan  2020-01-05          NaN        0.0   \n",
       "1      AFG      Asia  Afghanistan  2020-01-06          NaN        0.0   \n",
       "2      AFG      Asia  Afghanistan  2020-01-07          NaN        0.0   \n",
       "3      AFG      Asia  Afghanistan  2020-01-08          NaN        0.0   \n",
       "4      AFG      Asia  Afghanistan  2020-01-09          NaN        0.0   \n",
       "\n",
       "   new_cases_smoothed  total_deaths  new_deaths  new_deaths_smoothed  ...  \\\n",
       "0                 NaN           NaN         0.0                  NaN  ...   \n",
       "1                 NaN           NaN         0.0                  NaN  ...   \n",
       "2                 NaN           NaN         0.0                  NaN  ...   \n",
       "3                 NaN           NaN         0.0                  NaN  ...   \n",
       "4                 NaN           NaN         0.0                  NaN  ...   \n",
       "\n",
       "   male_smokers  handwashing_facilities  hospital_beds_per_thousand  \\\n",
       "0           NaN                  37.746                         0.5   \n",
       "1           NaN                  37.746                         0.5   \n",
       "2           NaN                  37.746                         0.5   \n",
       "3           NaN                  37.746                         0.5   \n",
       "4           NaN                  37.746                         0.5   \n",
       "\n",
       "   life_expectancy  human_development_index  population  \\\n",
       "0            64.83                    0.511  41128772.0   \n",
       "1            64.83                    0.511  41128772.0   \n",
       "2            64.83                    0.511  41128772.0   \n",
       "3            64.83                    0.511  41128772.0   \n",
       "4            64.83                    0.511  41128772.0   \n",
       "\n",
       "   excess_mortality_cumulative_absolute  excess_mortality_cumulative  \\\n",
       "0                                   NaN                          NaN   \n",
       "1                                   NaN                          NaN   \n",
       "2                                   NaN                          NaN   \n",
       "3                                   NaN                          NaN   \n",
       "4                                   NaN                          NaN   \n",
       "\n",
       "   excess_mortality  excess_mortality_cumulative_per_million  \n",
       "0               NaN                                      NaN  \n",
       "1               NaN                                      NaN  \n",
       "2               NaN                                      NaN  \n",
       "3               NaN                                      NaN  \n",
       "4               NaN                                      NaN  \n",
       "\n",
       "[5 rows x 67 columns]"
      ]
     },
     "execution_count": 93,
     "metadata": {},
     "output_type": "execute_result"
    }
   ],
   "source": [
    "df.head()"
   ]
  },
  {
   "cell_type": "markdown",
   "id": "86cd3fdb-3a98-415c-a2d2-daff4d4c93fc",
   "metadata": {},
   "source": [
    "# Verifico le dimensioni del dataframe"
   ]
  },
  {
   "cell_type": "code",
   "execution_count": 6,
   "id": "73a78afa-b7de-4491-899b-7bfc50870995",
   "metadata": {},
   "outputs": [
    {
     "data": {
      "text/plain": [
       "(384091, 67)"
      ]
     },
     "execution_count": 6,
     "metadata": {},
     "output_type": "execute_result"
    }
   ],
   "source": [
    "df.shape"
   ]
  },
  {
   "cell_type": "markdown",
   "id": "652dd9ae-529e-4ce1-b962-b0270d44760c",
   "metadata": {},
   "source": [
    "# Verifico le diciture presenti nell'intestazione"
   ]
  },
  {
   "cell_type": "code",
   "execution_count": 94,
   "id": "6efbff01-5bc8-4e3e-b39f-ae22c251f1f7",
   "metadata": {},
   "outputs": [
    {
     "data": {
      "text/plain": [
       "['iso_code',\n",
       " 'continent',\n",
       " 'location',\n",
       " 'date',\n",
       " 'total_cases',\n",
       " 'new_cases',\n",
       " 'new_cases_smoothed',\n",
       " 'total_deaths',\n",
       " 'new_deaths',\n",
       " 'new_deaths_smoothed',\n",
       " 'total_cases_per_million',\n",
       " 'new_cases_per_million',\n",
       " 'new_cases_smoothed_per_million',\n",
       " 'total_deaths_per_million',\n",
       " 'new_deaths_per_million',\n",
       " 'new_deaths_smoothed_per_million',\n",
       " 'reproduction_rate',\n",
       " 'icu_patients',\n",
       " 'icu_patients_per_million',\n",
       " 'hosp_patients',\n",
       " 'hosp_patients_per_million',\n",
       " 'weekly_icu_admissions',\n",
       " 'weekly_icu_admissions_per_million',\n",
       " 'weekly_hosp_admissions',\n",
       " 'weekly_hosp_admissions_per_million',\n",
       " 'total_tests',\n",
       " 'new_tests',\n",
       " 'total_tests_per_thousand',\n",
       " 'new_tests_per_thousand',\n",
       " 'new_tests_smoothed',\n",
       " 'new_tests_smoothed_per_thousand',\n",
       " 'positive_rate',\n",
       " 'tests_per_case',\n",
       " 'tests_units',\n",
       " 'total_vaccinations',\n",
       " 'people_vaccinated',\n",
       " 'people_fully_vaccinated',\n",
       " 'total_boosters',\n",
       " 'new_vaccinations',\n",
       " 'new_vaccinations_smoothed',\n",
       " 'total_vaccinations_per_hundred',\n",
       " 'people_vaccinated_per_hundred',\n",
       " 'people_fully_vaccinated_per_hundred',\n",
       " 'total_boosters_per_hundred',\n",
       " 'new_vaccinations_smoothed_per_million',\n",
       " 'new_people_vaccinated_smoothed',\n",
       " 'new_people_vaccinated_smoothed_per_hundred',\n",
       " 'stringency_index',\n",
       " 'population_density',\n",
       " 'median_age',\n",
       " 'aged_65_older',\n",
       " 'aged_70_older',\n",
       " 'gdp_per_capita',\n",
       " 'extreme_poverty',\n",
       " 'cardiovasc_death_rate',\n",
       " 'diabetes_prevalence',\n",
       " 'female_smokers',\n",
       " 'male_smokers',\n",
       " 'handwashing_facilities',\n",
       " 'hospital_beds_per_thousand',\n",
       " 'life_expectancy',\n",
       " 'human_development_index',\n",
       " 'population',\n",
       " 'excess_mortality_cumulative_absolute',\n",
       " 'excess_mortality_cumulative',\n",
       " 'excess_mortality',\n",
       " 'excess_mortality_cumulative_per_million']"
      ]
     },
     "execution_count": 94,
     "metadata": {},
     "output_type": "execute_result"
    }
   ],
   "source": [
    "df.columns.values.tolist()"
   ]
  },
  {
   "cell_type": "markdown",
   "id": "2e84125b-8dcc-404e-93c3-f1f28820d2df",
   "metadata": {},
   "source": [
    "# Verifichiamo la tipologia dei dati"
   ]
  },
  {
   "cell_type": "code",
   "execution_count": 95,
   "id": "2ac5ab27-63f8-4669-8fa6-648e35481598",
   "metadata": {},
   "outputs": [
    {
     "name": "stdout",
     "output_type": "stream",
     "text": [
      "<class 'pandas.core.frame.DataFrame'>\n",
      "RangeIndex: 384091 entries, 0 to 384090\n",
      "Data columns (total 67 columns):\n",
      " #   Column                                      Non-Null Count   Dtype  \n",
      "---  ------                                      --------------   -----  \n",
      " 0   iso_code                                    384091 non-null  object \n",
      " 1   continent                                   365633 non-null  object \n",
      " 2   location                                    384091 non-null  object \n",
      " 3   date                                        384091 non-null  object \n",
      " 4   total_cases                                 344917 non-null  float64\n",
      " 5   new_cases                                   372892 non-null  float64\n",
      " 6   new_cases_smoothed                          371662 non-null  float64\n",
      " 7   total_deaths                                322777 non-null  float64\n",
      " 8   new_deaths                                  373187 non-null  float64\n",
      " 9   new_deaths_smoothed                         371957 non-null  float64\n",
      " 10  total_cases_per_million                     344917 non-null  float64\n",
      " 11  new_cases_per_million                       372892 non-null  float64\n",
      " 12  new_cases_smoothed_per_million              371662 non-null  float64\n",
      " 13  total_deaths_per_million                    322777 non-null  float64\n",
      " 14  new_deaths_per_million                      373187 non-null  float64\n",
      " 15  new_deaths_smoothed_per_million             371957 non-null  float64\n",
      " 16  reproduction_rate                           184817 non-null  float64\n",
      " 17  icu_patients                                38625 non-null   float64\n",
      " 18  icu_patients_per_million                    38625 non-null   float64\n",
      " 19  hosp_patients                               40158 non-null   float64\n",
      " 20  hosp_patients_per_million                   40158 non-null   float64\n",
      " 21  weekly_icu_admissions                       10674 non-null   float64\n",
      " 22  weekly_icu_admissions_per_million           10674 non-null   float64\n",
      " 23  weekly_hosp_admissions                      24149 non-null   float64\n",
      " 24  weekly_hosp_admissions_per_million          24149 non-null   float64\n",
      " 25  total_tests                                 79387 non-null   float64\n",
      " 26  new_tests                                   75403 non-null   float64\n",
      " 27  total_tests_per_thousand                    79387 non-null   float64\n",
      " 28  new_tests_per_thousand                      75403 non-null   float64\n",
      " 29  new_tests_smoothed                          103965 non-null  float64\n",
      " 30  new_tests_smoothed_per_thousand             103965 non-null  float64\n",
      " 31  positive_rate                               95927 non-null   float64\n",
      " 32  tests_per_case                              94348 non-null   float64\n",
      " 33  tests_units                                 106788 non-null  object \n",
      " 34  total_vaccinations                          83270 non-null   float64\n",
      " 35  people_vaccinated                           79152 non-null   float64\n",
      " 36  people_fully_vaccinated                     76032 non-null   float64\n",
      " 37  total_boosters                              51459 non-null   float64\n",
      " 38  new_vaccinations                            69014 non-null   float64\n",
      " 39  new_vaccinations_smoothed                   189974 non-null  float64\n",
      " 40  total_vaccinations_per_hundred              83270 non-null   float64\n",
      " 41  people_vaccinated_per_hundred               79152 non-null   float64\n",
      " 42  people_fully_vaccinated_per_hundred         76032 non-null   float64\n",
      " 43  total_boosters_per_hundred                  51459 non-null   float64\n",
      " 44  new_vaccinations_smoothed_per_million       189974 non-null  float64\n",
      " 45  new_people_vaccinated_smoothed              187348 non-null  float64\n",
      " 46  new_people_vaccinated_smoothed_per_hundred  187348 non-null  float64\n",
      " 47  stringency_index                            197292 non-null  float64\n",
      " 48  population_density                          326464 non-null  float64\n",
      " 49  median_age                                  303493 non-null  float64\n",
      " 50  aged_65_older                               293024 non-null  float64\n",
      " 51  aged_70_older                               300453 non-null  float64\n",
      " 52  gdp_per_capita                              297565 non-null  float64\n",
      " 53  extreme_poverty                             191823 non-null  float64\n",
      " 54  cardiovasc_death_rate                       298135 non-null  float64\n",
      " 55  diabetes_prevalence                         313509 non-null  float64\n",
      " 56  female_smokers                              223827 non-null  float64\n",
      " 57  male_smokers                                220787 non-null  float64\n",
      " 58  handwashing_facilities                      146018 non-null  float64\n",
      " 59  hospital_beds_per_thousand                  263347 non-null  float64\n",
      " 60  life_expectancy                             353653 non-null  float64\n",
      " 61  human_development_index                     289180 non-null  float64\n",
      " 62  population                                  384091 non-null  float64\n",
      " 63  excess_mortality_cumulative_absolute        13172 non-null   float64\n",
      " 64  excess_mortality_cumulative                 13172 non-null   float64\n",
      " 65  excess_mortality                            13172 non-null   float64\n",
      " 66  excess_mortality_cumulative_per_million     13172 non-null   float64\n",
      "dtypes: float64(62), object(5)\n",
      "memory usage: 196.3+ MB\n"
     ]
    }
   ],
   "source": [
    "df.info()"
   ]
  },
  {
   "cell_type": "markdown",
   "id": "05152adb-8e92-44b1-8e6b-2494c9f8f590",
   "metadata": {},
   "source": [
    "## Determino i casi totali per continente"
   ]
  },
  {
   "cell_type": "code",
   "execution_count": 96,
   "id": "5e2d3efb-8a5d-4f62-83da-5ffed59b8054",
   "metadata": {},
   "outputs": [],
   "source": [
    "continent_totalcases=df.groupby(\"continent\")[\"new_cases\"].sum()"
   ]
  },
  {
   "cell_type": "code",
   "execution_count": 97,
   "id": "029e8b83-e072-4fa7-8f3e-6e2353f2c8d7",
   "metadata": {},
   "outputs": [
    {
     "data": {
      "text/plain": [
       "continent\n",
       "Africa            13140432.0\n",
       "Asia             301426766.0\n",
       "Europe           252322670.0\n",
       "North America    124525279.0\n",
       "Oceania           14791186.0\n",
       "South America     68695341.0\n",
       "Name: new_cases, dtype: float64"
      ]
     },
     "execution_count": 97,
     "metadata": {},
     "output_type": "execute_result"
    }
   ],
   "source": [
    "continent_totalcases"
   ]
  },
  {
   "cell_type": "markdown",
   "id": "007ab397-613e-4e72-bb32-09e21adea8be",
   "metadata": {},
   "source": [
    "## Prendo 2  continenti e confronto i seguenti descrittori statistici: valori minimo e massimo, media, e percentuale rispetto al numero dei casi totali nel mondo"
   ]
  },
  {
   "cell_type": "code",
   "execution_count": 98,
   "id": "1b2b9283-b376-4c6a-aa17-c95c1261de85",
   "metadata": {},
   "outputs": [],
   "source": [
    "europe=df[df[\"continent\"]==\"Europe\"]"
   ]
  },
  {
   "cell_type": "code",
   "execution_count": 99,
   "id": "4c0ab3d1-0f26-48ca-a612-c1928c5a7edc",
   "metadata": {},
   "outputs": [
    {
     "name": "stdout",
     "output_type": "stream",
     "text": [
      "continent\n",
      "Europe    252322670.0\n",
      "Name: new_cases, dtype: float64\n"
     ]
    }
   ],
   "source": [
    "europe_tot=europe.groupby([\"continent\"])[\"new_cases\"].sum()\n",
    "print(europe_tot)"
   ]
  },
  {
   "cell_type": "code",
   "execution_count": 101,
   "id": "15ff3cfb-9746-4284-b5ca-4b2fb3868550",
   "metadata": {},
   "outputs": [
    {
     "name": "stdout",
     "output_type": "stream",
     "text": [
      "continent\n",
      "Europe    0.325619\n",
      "Name: new_cases, dtype: float64\n"
     ]
    }
   ],
   "source": [
    "europe_perc=europe_tot/ continent_totalcases.sum()\n",
    "print(europe_perc)"
   ]
  },
  {
   "cell_type": "code",
   "execution_count": 102,
   "id": "5b63eaa9-2d96-49d6-92d5-c4b7dd8658f3",
   "metadata": {},
   "outputs": [
    {
     "name": "stdout",
     "output_type": "stream",
     "text": [
      "                   sum        max  min    mean\n",
      "continent                                     \n",
      "Europe     252322670.0  2417043.0  0.0  3286.0\n"
     ]
    }
   ],
   "source": [
    "europe_data=europe.groupby([\"continent\"])[\"new_cases\"].agg([\"sum\",\"max\",\"min\",\"mean\"]).round()\n",
    "print(europe_data)"
   ]
  },
  {
   "cell_type": "markdown",
   "id": "b0502356-c6d4-4aa4-a246-83b028fbdf39",
   "metadata": {},
   "source": [
    "## Unisco i dati statistici e la percentuale in un uncia tabella denominata eu"
   ]
  },
  {
   "cell_type": "code",
   "execution_count": 103,
   "id": "b18434f5-4ac4-4312-9c45-ce7159e8c97c",
   "metadata": {},
   "outputs": [
    {
     "name": "stdout",
     "output_type": "stream",
     "text": [
      "           new_cases          sum        max  min    mean\n",
      "continent                                                \n",
      "Europe      0.325619  252322670.0  2417043.0  0.0  3286.0\n"
     ]
    }
   ],
   "source": [
    "eu=pd.merge(europe_perc,europe_data,on=\"continent\")\n",
    "print(eu)"
   ]
  },
  {
   "cell_type": "markdown",
   "id": "0f71615d-4778-4161-a50e-6c2aa89b5077",
   "metadata": {},
   "source": [
    "## Eseguo le stesse operazioni per l'oceania"
   ]
  },
  {
   "cell_type": "code",
   "execution_count": 104,
   "id": "8a8e9803-edfd-474c-826b-d97308ce309a",
   "metadata": {},
   "outputs": [],
   "source": [
    "oceania=df[df[\"continent\"]==\"Oceania\"]"
   ]
  },
  {
   "cell_type": "code",
   "execution_count": 105,
   "id": "c9cc9573-4abb-49c6-98d1-4789ec93f145",
   "metadata": {},
   "outputs": [
    {
     "name": "stdout",
     "output_type": "stream",
     "text": [
      "continent\n",
      "Oceania    14791186.0\n",
      "Name: new_cases, dtype: float64\n"
     ]
    }
   ],
   "source": [
    "oceania_tot=oceania.groupby([\"continent\"])[\"new_cases\"].sum()\n",
    "print(oceania_tot)"
   ]
  },
  {
   "cell_type": "code",
   "execution_count": 106,
   "id": "99a0148c-f8fe-4fb4-8b2d-0162e8f863ea",
   "metadata": {},
   "outputs": [
    {
     "name": "stdout",
     "output_type": "stream",
     "text": [
      "continent\n",
      "Oceania    0.019088\n",
      "Name: new_cases, dtype: float64\n"
     ]
    }
   ],
   "source": [
    "oceania_perc=oceania_tot/ continent_totalcases.sum()\n",
    "print(oceania_perc)"
   ]
  },
  {
   "cell_type": "code",
   "execution_count": 107,
   "id": "570dd429-5b95-4fe4-b77b-8e29c493aed7",
   "metadata": {},
   "outputs": [
    {
     "name": "stdout",
     "output_type": "stream",
     "text": [
      "                  sum       max  min   mean\n",
      "continent                                  \n",
      "Oceania    14791186.0  588813.0  0.0  405.0\n"
     ]
    }
   ],
   "source": [
    "oceania_data=oceania.groupby([\"continent\"])[\"new_cases\"].agg([\"sum\",\"max\",\"min\",\"mean\"]).round()\n",
    "print(oceania_data)"
   ]
  },
  {
   "cell_type": "code",
   "execution_count": 63,
   "id": "a10f071f-4d2a-463f-92ba-abaa8634cf2c",
   "metadata": {},
   "outputs": [
    {
     "name": "stdout",
     "output_type": "stream",
     "text": [
      "           new_cases         sum       max  min   mean\n",
      "continent                                             \n",
      "Oceania     0.019088  14791186.0  588813.0  0.0  405.0\n"
     ]
    }
   ],
   "source": [
    "oc=pd.merge(oceania_perc,oceania_data,on=\"continent\")\n",
    "print(oc)"
   ]
  },
  {
   "cell_type": "markdown",
   "id": "76c76bc8-c449-49fd-97a3-d7a4c290466a",
   "metadata": {},
   "source": [
    "## Prendo in esame i dati covid relativi all'Italia nel 2022, e mostro con un grafico: 1)l'evoluzione dei casi totali, 2) il numero di nuovi casi rispetto alla data 3) l'andamento della somma cumulativa dei nuovi casi del 2022"
   ]
  },
  {
   "cell_type": "code",
   "execution_count": 111,
   "id": "82d51663-f29f-48fb-9a8f-7e713d9756d9",
   "metadata": {},
   "outputs": [],
   "source": [
    "italia_22=df[(df[\"location\"]==\"Italy\")&(df[\"date\"].str.startswith(\"2022\"))]"
   ]
  },
  {
   "cell_type": "code",
   "execution_count": 114,
   "id": "2b0a32fc-2851-4b03-a7ef-f294d610914d",
   "metadata": {},
   "outputs": [
    {
     "data": {
      "image/png": "[encoded data removed]",
      "text/plain": [
       "<Figure size 1000x600 with 1 Axes>"
      ]
     },
     "metadata": {},
     "output_type": "display_data"
    }
   ],
   "source": [
    "plt.figure(figsize=(10, 6))\n",
    "plt.plot(italia_22[\"date\"], italia_22[\"total_cases\"], label=\"Num.casi\")\n",
    "plt.xlabel(\"Periodo riferimento\")\n",
    "plt.ylabel(\"Casi totali\")\n",
    "plt.title(\"Totale casi Covid-19 in Italia nel 2022\")\n",
    "plt.legend()\n",
    "plt.show()"
   ]
  },
  {
   "cell_type": "code",
   "execution_count": 115,
   "id": "71de77ce-3da5-4407-963a-8dd5b2e4fcc6",
   "metadata": {},
   "outputs": [
    {
     "data": {
      "image/png": "[encoded data removed]",
      "text/plain": [
       "<Figure size 1000x600 with 1 Axes>"
      ]
     },
     "metadata": {},
     "output_type": "display_data"
    }
   ],
   "source": [
    "plt.figure(figsize=(10, 6))\n",
    "plt.plot(italia_22[\"date\"], italia_22[\"new_cases\"], label=\"Num. casi\")\n",
    "plt.xlabel(\"Periodo riferimento\")\n",
    "plt.ylabel(\"Nuovi casi\")\n",
    "plt.title(\"Nuovi casi Covid-19 in italia nel 2022\")\n",
    "plt.legend()\n",
    "plt.show()"
   ]
  },
  {
   "cell_type": "code",
   "execution_count": 116,
   "id": "60474597-45c5-4de7-85ec-98af7a5e550b",
   "metadata": {},
   "outputs": [
    {
     "data": {
      "image/png": "[encoded data removed]",
      "text/plain": [
       "<Figure size 1000x600 with 1 Axes>"
      ]
     },
     "metadata": {},
     "output_type": "display_data"
    }
   ],
   "source": [
    "ita_andamento=italia_22[\"new_cases\"].cumsum()\n",
    "plt.figure(figsize=(10, 6))\n",
    "plt.plot(italia_22[\"date\"], italia_22[\"total_cases\"], label=\"Casi totali\")\n",
    "plt.plot(italia_22[\"date\"], ita_andamento, label=\"Casi cumulativi\")\n",
    "plt.xlabel(\"Periodo riferimento\")\n",
    "plt.ylabel(\"Casi\")\n",
    "plt.title(\"Casi totali vs casi cumulativi in Italia nel 2022\")\n",
    "plt.legend()\n",
    "plt.show()"
   ]
  },
  {
   "cell_type": "markdown",
   "id": "fc331540-1eb5-4149-b9cc-0b078f776be5",
   "metadata": {},
   "source": [
    "## I casi totali ed i casi cumulativi seguono lo stesso andamento ed entrambe mostrano un picco intorno alla fine dell'anno (nov-dic) per poi tornare ad essere costante. "
   ]
  },
  {
   "cell_type": "markdown",
   "id": "bb048740-db13-4612-a118-14b89a93f888",
   "metadata": {},
   "source": [
    "## Filtro il dataframe per gli stati Italia, Germania e Francia, e mostro in un boxplot la differenza tra queste nazioni riguardo il  numero di pazienti in terapia intensiva (Intensive Care Unit, ICU) da maggio 2022 (incluso) ad aprile 2023 (incluso)"
   ]
  },
  {
   "cell_type": "code",
   "execution_count": 154,
   "id": "7554f9e4-b6ac-4fda-8a61-69c881d71bdc",
   "metadata": {},
   "outputs": [
    {
     "data": {
      "text/plain": [
       "location\n",
       "France     972.0\n",
       "Germany    994.0\n",
       "Italy      227.0\n",
       "Name: icu_patients, dtype: float64"
      ]
     },
     "execution_count": 154,
     "metadata": {},
     "output_type": "execute_result"
    }
   ],
   "source": [
    "igf_data_mediana=igf_data.groupby([\"location\"])[\"icu_patients\"].median().round()\n",
    "igf_data_mediana"
   ]
  },
  {
   "cell_type": "code",
   "execution_count": 153,
   "id": "4b5fbbe6-6a39-47a7-b4e3-1c121db1777d",
   "metadata": {},
   "outputs": [
    {
     "data": {
      "text/plain": [
       "location\n",
       "France      998.0\n",
       "Germany    1022.0\n",
       "Italy       231.0\n",
       "Name: icu_patients, dtype: float64"
      ]
     },
     "execution_count": 153,
     "metadata": {},
     "output_type": "execute_result"
    }
   ],
   "source": [
    "igf_data_media=igf_data.groupby([\"location\"])[\"icu_patients\"].mean().round()\n",
    "igf_data_media"
   ]
  },
  {
   "cell_type": "code",
   "execution_count": 151,
   "id": "94d4f7d7-e7d6-405a-9fb5-26c8351220e0",
   "metadata": {},
   "outputs": [
    {
     "data": {
      "image/png": "[encoded data removed]",
      "text/plain": [
       "<Figure size 1000x600 with 1 Axes>"
      ]
     },
     "metadata": {},
     "output_type": "display_data"
    }
   ],
   "source": [
    "igf_data=df[(df[\"location\"].isin([\"Italy\", \"Germany\", \"France\"])) & (df[\"date\"].between(\"2022-05-01\", \"2023-04-30\"))]\n",
    "plt.figure(figsize=(10, 6))\n",
    "sns.boxplot(x=\"location\", y='icu_patients', data=igf_data)\n",
    "plt.title(\"Pazienti in terapia intensiva, Maggio 2022 - Aprile 2023\")\n",
    "plt.xlabel(\"Paese\")\n",
    "plt.ylabel(\"Pazienti in terapia intensiva\")\n",
    "plt.show()"
   ]
  },
  {
   "cell_type": "markdown",
   "id": "9eceff07-9120-4bac-ae39-91b46a29e04a",
   "metadata": {},
   "source": [
    "## I boxplot dimostrano che Francia e Germania hanno avuto un valore mediano di pazienti in terapia intensiva più alto rispetto all'Italia, ma quest'ultima è la nazione con una distribuzione perfettamente simmetrica, infatti la mediana si colloca esattamente in posizione centrale rispetto alla scatola, ovvero alla stessa distanza tra primo e terzo quartile e la media (231) coincide con la mediana (227). La Francia e la Germania presentano una asimmetria, cioè una tendenza dei dati a disperdersi verso valori più grandi rispetto a quello centrale."
   ]
  },
  {
   "cell_type": "code",
   "execution_count": 139,
   "id": "fbb294d0-547e-4090-8e18-6fba1f225c82",
   "metadata": {},
   "outputs": [
    {
     "data": {
      "text/html": [
       "<div>\n",
       "<style scoped>\n",
       "    .dataframe tbody tr th:only-of-type {\n",
       "        vertical-align: middle;\n",
       "    }\n",
       "\n",
       "    .dataframe tbody tr th {\n",
       "        vertical-align: top;\n",
       "    }\n",
       "\n",
       "    .dataframe thead th {\n",
       "        text-align: right;\n",
       "    }\n",
       "</style>\n",
       "<table border=\"1\" class=\"dataframe\">\n",
       "  <thead>\n",
       "    <tr style=\"text-align: right;\">\n",
       "      <th></th>\n",
       "      <th>iso_code</th>\n",
       "      <th>continent</th>\n",
       "      <th>location</th>\n",
       "      <th>date</th>\n",
       "      <th>total_cases</th>\n",
       "      <th>new_cases</th>\n",
       "      <th>new_cases_smoothed</th>\n",
       "      <th>total_deaths</th>\n",
       "      <th>new_deaths</th>\n",
       "      <th>new_deaths_smoothed</th>\n",
       "      <th>...</th>\n",
       "      <th>male_smokers</th>\n",
       "      <th>handwashing_facilities</th>\n",
       "      <th>hospital_beds_per_thousand</th>\n",
       "      <th>life_expectancy</th>\n",
       "      <th>human_development_index</th>\n",
       "      <th>population</th>\n",
       "      <th>excess_mortality_cumulative_absolute</th>\n",
       "      <th>excess_mortality_cumulative</th>\n",
       "      <th>excess_mortality</th>\n",
       "      <th>excess_mortality_cumulative_per_million</th>\n",
       "    </tr>\n",
       "  </thead>\n",
       "  <tbody>\n",
       "    <tr>\n",
       "      <th>116679</th>\n",
       "      <td>FRA</td>\n",
       "      <td>Europe</td>\n",
       "      <td>France</td>\n",
       "      <td>2023-01-01</td>\n",
       "      <td>38141254.0</td>\n",
       "      <td>151707.0</td>\n",
       "      <td>21672.429</td>\n",
       "      <td>162475.0</td>\n",
       "      <td>808.0</td>\n",
       "      <td>115.429</td>\n",
       "      <td>...</td>\n",
       "      <td>35.6</td>\n",
       "      <td>NaN</td>\n",
       "      <td>5.98</td>\n",
       "      <td>82.66</td>\n",
       "      <td>0.901</td>\n",
       "      <td>67813000.0</td>\n",
       "      <td>122180.83</td>\n",
       "      <td>6.64</td>\n",
       "      <td>25.88</td>\n",
       "      <td>1886.7708</td>\n",
       "    </tr>\n",
       "    <tr>\n",
       "      <th>116680</th>\n",
       "      <td>FRA</td>\n",
       "      <td>Europe</td>\n",
       "      <td>France</td>\n",
       "      <td>2023-01-02</td>\n",
       "      <td>38141254.0</td>\n",
       "      <td>0.0</td>\n",
       "      <td>21672.429</td>\n",
       "      <td>162475.0</td>\n",
       "      <td>0.0</td>\n",
       "      <td>115.429</td>\n",
       "      <td>...</td>\n",
       "      <td>35.6</td>\n",
       "      <td>NaN</td>\n",
       "      <td>5.98</td>\n",
       "      <td>82.66</td>\n",
       "      <td>0.901</td>\n",
       "      <td>67813000.0</td>\n",
       "      <td>NaN</td>\n",
       "      <td>NaN</td>\n",
       "      <td>NaN</td>\n",
       "      <td>NaN</td>\n",
       "    </tr>\n",
       "    <tr>\n",
       "      <th>116681</th>\n",
       "      <td>FRA</td>\n",
       "      <td>Europe</td>\n",
       "      <td>France</td>\n",
       "      <td>2023-01-03</td>\n",
       "      <td>38141254.0</td>\n",
       "      <td>0.0</td>\n",
       "      <td>21672.429</td>\n",
       "      <td>162475.0</td>\n",
       "      <td>0.0</td>\n",
       "      <td>115.429</td>\n",
       "      <td>...</td>\n",
       "      <td>35.6</td>\n",
       "      <td>NaN</td>\n",
       "      <td>5.98</td>\n",
       "      <td>82.66</td>\n",
       "      <td>0.901</td>\n",
       "      <td>67813000.0</td>\n",
       "      <td>NaN</td>\n",
       "      <td>NaN</td>\n",
       "      <td>NaN</td>\n",
       "      <td>NaN</td>\n",
       "    </tr>\n",
       "    <tr>\n",
       "      <th>116682</th>\n",
       "      <td>FRA</td>\n",
       "      <td>Europe</td>\n",
       "      <td>France</td>\n",
       "      <td>2023-01-04</td>\n",
       "      <td>38141254.0</td>\n",
       "      <td>0.0</td>\n",
       "      <td>21672.429</td>\n",
       "      <td>162475.0</td>\n",
       "      <td>0.0</td>\n",
       "      <td>115.429</td>\n",
       "      <td>...</td>\n",
       "      <td>35.6</td>\n",
       "      <td>NaN</td>\n",
       "      <td>5.98</td>\n",
       "      <td>82.66</td>\n",
       "      <td>0.901</td>\n",
       "      <td>67813000.0</td>\n",
       "      <td>NaN</td>\n",
       "      <td>NaN</td>\n",
       "      <td>NaN</td>\n",
       "      <td>NaN</td>\n",
       "    </tr>\n",
       "    <tr>\n",
       "      <th>116683</th>\n",
       "      <td>FRA</td>\n",
       "      <td>Europe</td>\n",
       "      <td>France</td>\n",
       "      <td>2023-01-05</td>\n",
       "      <td>38141254.0</td>\n",
       "      <td>0.0</td>\n",
       "      <td>21672.429</td>\n",
       "      <td>162475.0</td>\n",
       "      <td>0.0</td>\n",
       "      <td>115.429</td>\n",
       "      <td>...</td>\n",
       "      <td>35.6</td>\n",
       "      <td>NaN</td>\n",
       "      <td>5.98</td>\n",
       "      <td>82.66</td>\n",
       "      <td>0.901</td>\n",
       "      <td>67813000.0</td>\n",
       "      <td>NaN</td>\n",
       "      <td>NaN</td>\n",
       "      <td>NaN</td>\n",
       "      <td>NaN</td>\n",
       "    </tr>\n",
       "  </tbody>\n",
       "</table>\n",
       "<p>5 rows × 67 columns</p>\n",
       "</div>"
      ],
      "text/plain": [
       "       iso_code continent location        date  total_cases  new_cases  \\\n",
       "116679      FRA    Europe   France  2023-01-01   38141254.0   151707.0   \n",
       "116680      FRA    Europe   France  2023-01-02   38141254.0        0.0   \n",
       "116681      FRA    Europe   France  2023-01-03   38141254.0        0.0   \n",
       "116682      FRA    Europe   France  2023-01-04   38141254.0        0.0   \n",
       "116683      FRA    Europe   France  2023-01-05   38141254.0        0.0   \n",
       "\n",
       "        new_cases_smoothed  total_deaths  new_deaths  new_deaths_smoothed  \\\n",
       "116679           21672.429      162475.0       808.0              115.429   \n",
       "116680           21672.429      162475.0         0.0              115.429   \n",
       "116681           21672.429      162475.0         0.0              115.429   \n",
       "116682           21672.429      162475.0         0.0              115.429   \n",
       "116683           21672.429      162475.0         0.0              115.429   \n",
       "\n",
       "        ...  male_smokers  handwashing_facilities  hospital_beds_per_thousand  \\\n",
       "116679  ...          35.6                     NaN                        5.98   \n",
       "116680  ...          35.6                     NaN                        5.98   \n",
       "116681  ...          35.6                     NaN                        5.98   \n",
       "116682  ...          35.6                     NaN                        5.98   \n",
       "116683  ...          35.6                     NaN                        5.98   \n",
       "\n",
       "        life_expectancy  human_development_index  population  \\\n",
       "116679            82.66                    0.901  67813000.0   \n",
       "116680            82.66                    0.901  67813000.0   \n",
       "116681            82.66                    0.901  67813000.0   \n",
       "116682            82.66                    0.901  67813000.0   \n",
       "116683            82.66                    0.901  67813000.0   \n",
       "\n",
       "        excess_mortality_cumulative_absolute  excess_mortality_cumulative  \\\n",
       "116679                             122180.83                         6.64   \n",
       "116680                                   NaN                          NaN   \n",
       "116681                                   NaN                          NaN   \n",
       "116682                                   NaN                          NaN   \n",
       "116683                                   NaN                          NaN   \n",
       "\n",
       "        excess_mortality  excess_mortality_cumulative_per_million  \n",
       "116679             25.88                                1886.7708  \n",
       "116680               NaN                                      NaN  \n",
       "116681               NaN                                      NaN  \n",
       "116682               NaN                                      NaN  \n",
       "116683               NaN                                      NaN  \n",
       "\n",
       "[5 rows x 67 columns]"
      ]
     },
     "execution_count": 139,
     "metadata": {},
     "output_type": "execute_result"
    }
   ],
   "source": [
    "igfs_data=df[(df[\"location\"].isin([\"Italy\", \"Germany\", \"France\",\"Spain\"])) & (df[\"date\"].between(\"2023-01-01\", \"2023-12-31\"))]\n",
    "igfs_data.head()"
   ]
  },
  {
   "cell_type": "code",
   "execution_count": 181,
   "id": "abbcc9ab-6ac6-4123-966c-ba1b2edd3e9b",
   "metadata": {},
   "outputs": [],
   "source": [
    "igfs_totalcases=igfs_data.groupby([\"location\"])[\"hosp_patients\"].sum()"
   ]
  },
  {
   "cell_type": "code",
   "execution_count": 180,
   "id": "db9686b3-1c3f-4398-b061-1f4c39858ccb",
   "metadata": {},
   "outputs": [
    {
     "data": {
      "text/plain": [
       "location\n",
       "France      90\n",
       "Germany      0\n",
       "Italy      365\n",
       "Spain      162\n",
       "Name: hosp_patients, dtype: int64"
      ]
     },
     "execution_count": 180,
     "metadata": {},
     "output_type": "execute_result"
    }
   ],
   "source": [
    "igfs_totalcases"
   ]
  },
  {
   "cell_type": "code",
   "execution_count": 190,
   "id": "5c028afd-8a96-4ac5-95f0-066be8d395ab",
   "metadata": {},
   "outputs": [
    {
     "name": "stdout",
     "output_type": "stream",
     "text": [
      "iso_codecontains0 NaN values, 0.0% of all raws.\n",
      "continentcontains0 NaN values, 0.0% of all raws.\n",
      "locationcontains0 NaN values, 0.0% of all raws.\n",
      "datecontains0 NaN values, 0.0% of all raws.\n",
      "total_casescontains0 NaN values, 0.0% of all raws.\n",
      "new_casescontains533 NaN values, 36.51% of all raws.\n",
      "new_cases_smoothedcontains533 NaN values, 36.51% of all raws.\n",
      "total_deathscontains0 NaN values, 0.0% of all raws.\n",
      "new_deathscontains533 NaN values, 36.51% of all raws.\n",
      "new_deaths_smoothedcontains533 NaN values, 36.51% of all raws.\n",
      "total_cases_per_millioncontains0 NaN values, 0.0% of all raws.\n",
      "new_cases_per_millioncontains533 NaN values, 36.51% of all raws.\n",
      "new_cases_smoothed_per_millioncontains533 NaN values, 36.51% of all raws.\n",
      "total_deaths_per_millioncontains0 NaN values, 0.0% of all raws.\n",
      "new_deaths_per_millioncontains533 NaN values, 36.51% of all raws.\n",
      "new_deaths_smoothed_per_millioncontains533 NaN values, 36.51% of all raws.\n",
      "reproduction_ratecontains1452 NaN values, 99.45% of all raws.\n",
      "icu_patientscontains666 NaN values, 45.62% of all raws.\n",
      "icu_patients_per_millioncontains666 NaN values, 45.62% of all raws.\n",
      "hosp_patientscontains843 NaN values, 57.74% of all raws.\n",
      "hosp_patients_per_millioncontains843 NaN values, 57.74% of all raws.\n",
      "weekly_icu_admissionscontains667 NaN values, 45.68% of all raws.\n",
      "weekly_icu_admissions_per_millioncontains667 NaN values, 45.68% of all raws.\n",
      "weekly_hosp_admissionscontains665 NaN values, 45.55% of all raws.\n",
      "weekly_hosp_admissions_per_millioncontains665 NaN values, 45.55% of all raws.\n",
      "total_testscontains1460 NaN values, 100.0% of all raws.\n",
      "new_testscontains1460 NaN values, 100.0% of all raws.\n",
      "total_tests_per_thousandcontains1460 NaN values, 100.0% of all raws.\n",
      "new_tests_per_thousandcontains1460 NaN values, 100.0% of all raws.\n",
      "new_tests_smoothedcontains1460 NaN values, 100.0% of all raws.\n",
      "new_tests_smoothed_per_thousandcontains1460 NaN values, 100.0% of all raws.\n",
      "positive_ratecontains1460 NaN values, 100.0% of all raws.\n",
      "tests_per_casecontains1460 NaN values, 100.0% of all raws.\n",
      "tests_unitscontains1460 NaN values, 100.0% of all raws.\n",
      "total_vaccinationscontains858 NaN values, 58.77% of all raws.\n",
      "people_vaccinatedcontains858 NaN values, 58.77% of all raws.\n",
      "people_fully_vaccinatedcontains858 NaN values, 58.77% of all raws.\n",
      "total_boosterscontains858 NaN values, 58.77% of all raws.\n",
      "new_vaccinationscontains885 NaN values, 60.62% of all raws.\n",
      "new_vaccinations_smoothedcontains708 NaN values, 48.49% of all raws.\n",
      "total_vaccinations_per_hundredcontains858 NaN values, 58.77% of all raws.\n",
      "people_vaccinated_per_hundredcontains858 NaN values, 58.77% of all raws.\n",
      "people_fully_vaccinated_per_hundredcontains858 NaN values, 58.77% of all raws.\n",
      "total_boosters_per_hundredcontains858 NaN values, 58.77% of all raws.\n",
      "new_vaccinations_smoothed_per_millioncontains708 NaN values, 48.49% of all raws.\n",
      "new_people_vaccinated_smoothedcontains708 NaN values, 48.49% of all raws.\n",
      "new_people_vaccinated_smoothed_per_hundredcontains708 NaN values, 48.49% of all raws.\n",
      "stringency_indexcontains1460 NaN values, 100.0% of all raws.\n",
      "population_densitycontains0 NaN values, 0.0% of all raws.\n",
      "median_agecontains0 NaN values, 0.0% of all raws.\n",
      "aged_65_oldercontains0 NaN values, 0.0% of all raws.\n",
      "aged_70_oldercontains0 NaN values, 0.0% of all raws.\n",
      "gdp_per_capitacontains0 NaN values, 0.0% of all raws.\n",
      "extreme_povertycontains730 NaN values, 50.0% of all raws.\n",
      "cardiovasc_death_ratecontains0 NaN values, 0.0% of all raws.\n",
      "diabetes_prevalencecontains0 NaN values, 0.0% of all raws.\n",
      "female_smokerscontains0 NaN values, 0.0% of all raws.\n",
      "male_smokerscontains0 NaN values, 0.0% of all raws.\n",
      "handwashing_facilitiescontains1460 NaN values, 100.0% of all raws.\n",
      "hospital_beds_per_thousandcontains0 NaN values, 0.0% of all raws.\n",
      "life_expectancycontains0 NaN values, 0.0% of all raws.\n",
      "human_development_indexcontains0 NaN values, 0.0% of all raws.\n",
      "populationcontains0 NaN values, 0.0% of all raws.\n",
      "excess_mortality_cumulative_absolutecontains1248 NaN values, 85.48% of all raws.\n",
      "excess_mortality_cumulativecontains1248 NaN values, 85.48% of all raws.\n",
      "excess_mortalitycontains1248 NaN values, 85.48% of all raws.\n",
      "excess_mortality_cumulative_per_millioncontains1248 NaN values, 85.48% of all raws.\n"
     ]
    }
   ],
   "source": [
    "for column in igfs_data.columns:\n",
    "    nan_count_igfs=igfs_data[column].isna().sum()\n",
    "    nan_percentage_igf=round((nan_count_igfs/igfs_data.shape[0])*100,2)\n",
    "    print(f\"{column}contains{nan_count_igfs} NaN values, {nan_percentage_igf}% of all raws.\")"
   ]
  },
  {
   "cell_type": "markdown",
   "id": "bbc7718f-19b4-46b5-8728-2a873c2508d0",
   "metadata": {},
   "source": [
    "## La colonna hosp_patients presenta 843 valori nulli: \"hosp_patientscontains 843 NaN values, 57.74% of all raws\". In questo caso di può procedere alla eliminazione e/o ssotituzione dei dati nulli al fine di poter effettuare una analisi accurata. "
   ]
  },
  {
   "cell_type": "code",
   "execution_count": null,
   "id": "5810278c-194b-45b7-a9c2-72d37d145b1d",
   "metadata": {},
   "outputs": [],
   "source": []
  }
 ],
 "metadata": {
  "kernelspec": {
   "display_name": "Python 3 (ipykernel)",
   "language": "python",
   "name": "python3"
  },
  "language_info": {
   "codemirror_mode": {
    "name": "ipython",
    "version": 3
   },
   "file_extension": ".py",
   "mimetype": "text/x-python",
   "name": "python",
   "nbconvert_exporter": "python",
   "pygments_lexer": "ipython3",
   "version": "3.11.7"
  }
 },
 "nbformat": 4,
 "nbformat_minor": 5
}
